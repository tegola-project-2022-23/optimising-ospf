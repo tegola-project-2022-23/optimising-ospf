{
 "cells": [
  {
   "cell_type": "markdown",
   "source": [
    "#### Setup the login credentials required for accessing the zabbix API"
   ],
   "metadata": {
    "collapsed": false,
    "pycharm": {
     "name": "#%% md\n"
    }
   }
  },
  {
   "cell_type": "code",
   "execution_count": 26,
   "outputs": [],
   "source": [
    "import requests\n",
    "import ast\n",
    "\n",
    "# CONSTANTS\n",
    "\n",
    "USERNAME = \"user\"\n",
    "PASSWORD = \"password\"\n",
    "API_URL = \"https://phonebox.tegola.org.uk/api_jsonrpc.php\"\n",
    "\n",
    "NUM_VALUES = 1     # Data is collected every 3 minutes"
   ],
   "metadata": {
    "collapsed": false,
    "pycharm": {
     "name": "#%%\n"
    }
   }
  },
  {
   "cell_type": "code",
   "execution_count": 27,
   "outputs": [
    {
     "name": "stdout",
     "output_type": "stream",
     "text": [
      "{\"jsonrpc\":\"2.0\",\"result\":\"77c376d2cfdc1a2c6be382dafb5ec4b1\",\"id\":1}\n"
     ]
    },
    {
     "data": {
      "text/plain": "'77c376d2cfdc1a2c6be382dafb5ec4b1'"
     },
     "execution_count": 27,
     "metadata": {},
     "output_type": "execute_result"
    }
   ],
   "source": [
    "data = {\n",
    "    \"jsonrpc\": \"2.0\",\n",
    "    \"method\": \"user.login\",\n",
    "    \"params\": {\n",
    "        \"user\": USERNAME,\n",
    "        \"password\": PASSWORD\n",
    "    },\n",
    "    \"id\": 1,\n",
    "    \"auth\": None\n",
    "}\n",
    "\n",
    "req = requests.post(API_URL, json=data)\n",
    "\n",
    "print(req.text)\n",
    "\n",
    "AUTH_TOKEN = req.json()[\"result\"]\n",
    "AUTH_TOKEN"
   ],
   "metadata": {
    "collapsed": false
   }
  },
  {
   "cell_type": "code",
   "execution_count": 31,
   "outputs": [
    {
     "name": "stdout",
     "output_type": "stream",
     "text": [
      "[{'itemid': '45645', 'clock': '1671621317', 'value': '254912', 'ns': '620522293'}]\n",
      "[{'itemid': '45813', 'clock': '1671621317', 'value': '727360', 'ns': '490495964'}]\n",
      "[{'itemid': '45646', 'clock': '1671621317', 'value': '17354624', 'ns': '622074943'}]\n",
      "[{'itemid': '45814', 'clock': '1671621317', 'value': '2855776', 'ns': '620522293'}]\n",
      "[{'itemid': '47713', 'clock': '1671621328', 'value': '2774512', 'ns': '704132806'}]\n",
      "[{'itemid': '47857', 'clock': '1671621328', 'value': '18163496', 'ns': '450213088'}]\n",
      "[{'itemid': '47712', 'clock': '1671621328', 'value': '3480', 'ns': '450213088'}]\n",
      "[{'itemid': '47856', 'clock': '1671621328', 'value': '3640', 'ns': '670164020'}]\n",
      "[{'itemid': '47065', 'clock': '1671621324', 'value': '19136', 'ns': '906542683'}]\n",
      "[{'itemid': '47116', 'clock': '1671621324', 'value': '61912', 'ns': '906542683'}]\n",
      "[{'itemid': '48766', 'clock': '1671621315', 'value': '62064', 'ns': '663889479'}]\n",
      "[{'itemid': '48811', 'clock': '1671621315', 'value': '21712', 'ns': '257892925'}]\n",
      "[{'itemid': '48769', 'clock': '1671621315', 'value': '715552', 'ns': '390766072'}]\n",
      "[{'itemid': '48814', 'clock': '1671621315', 'value': '248672', 'ns': '529227362'}]\n",
      "[{'itemid': '48767', 'clock': '1671621315', 'value': '2944', 'ns': '390766072'}]\n",
      "[{'itemid': '48812', 'clock': '1671621315', 'value': '3464', 'ns': '257892925'}]\n"
     ]
    }
   ],
   "source": [
    "item_ids = [\"45645\",    # SSH -> COR Bits Received\n",
    "            \"45813\",    # SSH -> COR Bits Sent\n",
    "            \"45646\",    # SSH -> SMO Bits Received\n",
    "            \"45814\",    # SSH -> SMO Bits Sent\n",
    "            \"47713\",    # SMO -> SSH Bits Received\n",
    "            \"47857\",    # SMO -> SSH Bits Sent\n",
    "            \"47712\",    # SMO -> COR Bits Received\n",
    "            \"47856\",    # SMO -> COR Bits Sent\n",
    "            \"47065\",    # MHI -> COR Bits Received\n",
    "            \"47116\",    # MHI -> COR Bits Sent\n",
    "            \"48766\",    # COR -> MHI Bits Received\n",
    "            \"48811\",    # COR -> MHI Bits Sent\n",
    "            \"48769\",    # COR -> SSH Bits Received\n",
    "            \"48814\",    # COR -> SSH Bits Sent\n",
    "            \"48767\",    # COR -> SSH Bits Received\n",
    "            \"48812\"     # COR -> SSH Bits Sent\n",
    "            ]\n",
    "\n",
    "for item_id in item_ids:\n",
    "    data = {\n",
    "        \"jsonrpc\": \"2.0\",\n",
    "        \"method\": \"history.get\",\n",
    "        \"params\": {\n",
    "            \"output\": \"extend\",\n",
    "            \"history\": 3,\n",
    "            \"itemids\": item_id,\n",
    "            \"sortfield\": \"clock\",\n",
    "            \"sortorder\": \"DESC\",\n",
    "            \"limit\": NUM_VALUES\n",
    "        },\n",
    "        \"auth\": AUTH_TOKEN,\n",
    "        \"id\": 1\n",
    "    }\n",
    "\n",
    "    req = requests.post(API_URL, json=data)\n",
    "    response = ast.literal_eval(req.text)\n",
    "    print(response[\"result\"])"
   ],
   "metadata": {
    "collapsed": false
   }
  },
  {
   "cell_type": "code",
   "execution_count": 32,
   "outputs": [
    {
     "name": "stdout",
     "output_type": "stream",
     "text": [
      "{\"jsonrpc\":\"2.0\",\"result\":true,\"id\":1}\n"
     ]
    }
   ],
   "source": [
    "# Log out the user\n",
    "# Commented out during testing\n",
    "\n",
    "data = {\n",
    "    \"jsonrpc\": \"2.0\",\n",
    "    \"method\": \"user.logout\",\n",
    "    \"params\": [],\n",
    "    \"id\": 1,\n",
    "    \"auth\": AUTH_TOKEN\n",
    "}\n",
    "\n",
    "# req = requests.post(API_URL, json=data)\n",
    "# print(req.text)"
   ],
   "metadata": {
    "collapsed": false
   }
  },
  {
   "cell_type": "code",
   "execution_count": 36,
   "outputs": [
    {
     "name": "stdout",
     "output_type": "stream",
     "text": [
      "sent\n",
      "received\n"
     ]
    }
   ],
   "source": [
    "item_ids = {\n",
    "    \"ssh\": {\n",
    "        \"cor\": {\n",
    "            \"sent\": \"45813\",\n",
    "            \"received\": \"45645\"\n",
    "        },\n",
    "        \"smo\": {\n",
    "            \"sent\": \"45814\",\n",
    "            \"received\": \"45646\"\n",
    "        },\n",
    "    },\n",
    "    \"smo\": {\n",
    "        \"ssh\": {\n",
    "            \"sent\": \"47857\",\n",
    "            \"received\": \"47713\"\n",
    "        }\n",
    "    }\n",
    "}\n",
    "\n",
    "for a in item_ids[\"ssh\"][\"cor\"]:\n",
    "    print(a)"
   ],
   "metadata": {
    "collapsed": false,
    "pycharm": {
     "name": "#%%\n"
    }
   }
  },
  {
   "cell_type": "code",
   "execution_count": null,
   "outputs": [],
   "source": [],
   "metadata": {
    "collapsed": false,
    "pycharm": {
     "name": "#%%\n"
    }
   }
  }
 ],
 "metadata": {
  "kernelspec": {
   "display_name": "Python 3",
   "language": "python",
   "name": "python3"
  },
  "language_info": {
   "codemirror_mode": {
    "name": "ipython",
    "version": 2
   },
   "file_extension": ".py",
   "mimetype": "text/x-python",
   "name": "python",
   "nbconvert_exporter": "python",
   "pygments_lexer": "ipython2",
   "version": "2.7.6"
  }
 },
 "nbformat": 4,
 "nbformat_minor": 0
}