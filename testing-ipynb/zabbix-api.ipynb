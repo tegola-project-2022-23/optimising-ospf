{
 "cells": [
  {
   "cell_type": "markdown",
   "source": [
    "# Zabbix API Test File\n",
    "\n",
    "This file was the original testing to use the zabbix API. This collects the latest value from Zabbix using a list of itemIDs collected from the interfaces we are interested in.\n",
    "\n",
    "## To run:\n",
    "- Enter a zabbix username and password that has permissions to use the API.\n",
    "- Alter the `NUM_VALUES` to a suitable value, this determines the \"last n values\" of for this itemID.\n",
    "- Then the program should print the results returned by the Zabbix API."
   ],
   "metadata": {
    "collapsed": false
   }
  },
  {
   "cell_type": "markdown",
   "source": [
    "#### Setup the login credentials required for accessing the zabbix API"
   ],
   "metadata": {
    "collapsed": false
   }
  },
  {
   "cell_type": "code",
   "execution_count": null,
   "outputs": [],
   "source": [
    "import requests\n",
    "import ast\n",
    "\n",
    "# CONSTANTS\n",
    "\n",
    "USERNAME = \"user\"\n",
    "PASSWORD = \"password\"\n",
    "API_URL = \"https://phonebox.tegola.org.uk/api_jsonrpc.php\"\n",
    "\n",
    "NUM_VALUES = 1     # Data is collected every 3 minutes"
   ],
   "metadata": {
    "collapsed": false
   }
  },
  {
   "cell_type": "code",
   "execution_count": null,
   "outputs": [],
   "source": [
    "data = {\n",
    "    \"jsonrpc\": \"2.0\",\n",
    "    \"method\": \"user.login\",\n",
    "    \"params\": {\n",
    "        \"user\": USERNAME,\n",
    "        \"password\": PASSWORD\n",
    "    },\n",
    "    \"id\": 1,\n",
    "    \"auth\": None\n",
    "}\n",
    "\n",
    "req = requests.post(API_URL, json=data)\n",
    "\n",
    "print(req.text)\n",
    "\n",
    "AUTH_TOKEN = req.json()[\"result\"]\n",
    "AUTH_TOKEN"
   ],
   "metadata": {
    "collapsed": false
   }
  },
  {
   "cell_type": "code",
   "execution_count": null,
   "outputs": [],
   "source": [
    "item_ids = [\"45645\",    # SSH -> COR Bits Received\n",
    "            \"45813\",    # SSH -> COR Bits Sent\n",
    "            \"45646\",    # SSH -> SMO Bits Received\n",
    "            \"45814\",    # SSH -> SMO Bits Sent\n",
    "            \"47713\",    # SMO -> SSH Bits Received\n",
    "            \"47857\",    # SMO -> SSH Bits Sent\n",
    "            \"47712\",    # SMO -> COR Bits Received\n",
    "            \"47856\",    # SMO -> COR Bits Sent\n",
    "            \"47065\",    # MHI -> COR Bits Received\n",
    "            \"47116\",    # MHI -> COR Bits Sent\n",
    "            \"48766\",    # COR -> MHI Bits Received\n",
    "            \"48811\",    # COR -> MHI Bits Sent\n",
    "            \"48769\",    # COR -> SSH Bits Received\n",
    "            \"48814\",    # COR -> SSH Bits Sent\n",
    "            \"48767\",    # COR -> SSH Bits Received\n",
    "            \"48812\"     # COR -> SSH Bits Sent\n",
    "            ]\n",
    "\n",
    "for item_id in item_ids:\n",
    "    data = {\n",
    "        \"jsonrpc\": \"2.0\",\n",
    "        \"method\": \"history.get\",\n",
    "        \"params\": {\n",
    "            \"output\": \"extend\",\n",
    "            \"history\": 3,\n",
    "            \"itemids\": item_id,\n",
    "            \"sortfield\": \"clock\",\n",
    "            \"sortorder\": \"DESC\",\n",
    "            \"limit\": NUM_VALUES\n",
    "        },\n",
    "        \"auth\": AUTH_TOKEN,\n",
    "        \"id\": 1\n",
    "    }\n",
    "\n",
    "    req = requests.post(API_URL, json=data)\n",
    "    response = ast.literal_eval(req.text)\n",
    "    print(response[\"result\"])"
   ],
   "metadata": {
    "collapsed": false
   }
  },
  {
   "cell_type": "code",
   "execution_count": null,
   "outputs": [],
   "source": [
    "# Log out the user\n",
    "# Commented out during testing\n",
    "\n",
    "data = {\n",
    "    \"jsonrpc\": \"2.0\",\n",
    "    \"method\": \"user.logout\",\n",
    "    \"params\": [],\n",
    "    \"id\": 1,\n",
    "    \"auth\": AUTH_TOKEN\n",
    "}\n",
    "\n",
    "# req = requests.post(API_URL, json=data)\n",
    "# print(req.text)"
   ],
   "metadata": {
    "collapsed": false
   }
  },
  {
   "cell_type": "code",
   "execution_count": null,
   "outputs": [],
   "source": [
    "item_ids = {\n",
    "    \"ssh\": {\n",
    "        \"cor\": {\n",
    "            \"sent\": \"45813\",\n",
    "            \"received\": \"45645\"\n",
    "        },\n",
    "        \"smo\": {\n",
    "            \"sent\": \"45814\",\n",
    "            \"received\": \"45646\"\n",
    "        },\n",
    "    },\n",
    "    \"smo\": {\n",
    "        \"ssh\": {\n",
    "            \"sent\": \"47857\",\n",
    "            \"received\": \"47713\"\n",
    "        }\n",
    "    }\n",
    "}\n",
    "\n",
    "for a in item_ids[\"ssh\"][\"cor\"]:\n",
    "    print(a)"
   ],
   "metadata": {
    "collapsed": false
   }
  },
  {
   "cell_type": "code",
   "execution_count": null,
   "outputs": [],
   "source": [],
   "metadata": {
    "collapsed": false
   }
  }
 ],
 "metadata": {
  "kernelspec": {
   "display_name": "Python 3",
   "language": "python",
   "name": "python3"
  },
  "language_info": {
   "codemirror_mode": {
    "name": "ipython",
    "version": 2
   },
   "file_extension": ".py",
   "mimetype": "text/x-python",
   "name": "python",
   "nbconvert_exporter": "python",
   "pygments_lexer": "ipython2",
   "version": "2.7.6"
  }
 },
 "nbformat": 4,
 "nbformat_minor": 0
}
